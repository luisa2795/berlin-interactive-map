{
 "cells": [
  {
   "cell_type": "code",
   "execution_count": 19,
   "id": "greenhouse-stephen",
   "metadata": {},
   "outputs": [
    {
     "name": "stdout",
     "output_type": "stream",
     "text": [
      "Requirement already satisfied: xmltodict in c:\\users\\user\\anaconda3\\lib\\site-packages (0.12.0)\n"
     ]
    }
   ],
   "source": [
    "#!pip install xmltodict"
   ]
  },
  {
   "cell_type": "code",
   "execution_count": 113,
   "id": "controlling-flush",
   "metadata": {},
   "outputs": [],
   "source": [
    "from pymongo import MongoClient\n",
    "from pprint import pprint\n",
    "import requests\n",
    "import json\n",
    "import folium\n",
    "from streamlit_folium import folium_static\n",
    "from folium.plugins import MarkerCluster\n",
    "import pandas as pd\n",
    "import xml.etree.ElementTree as ET\n",
    "import urllib.request\n",
    "from folium.plugins import FastMarkerCluster\n",
    "from urllib.request import urlopen\n",
    "from xml.etree.ElementTree import parse\n",
    "import xml.etree.ElementTree as ET\n",
    "import streamlit as st\n",
    "import xmltodict"
   ]
  },
  {
   "cell_type": "code",
   "execution_count": 114,
   "id": "downtown-ozone",
   "metadata": {},
   "outputs": [],
   "source": [
    "client = MongoClient()\n",
    "db = client['berlin']"
   ]
  },
  {
   "cell_type": "code",
   "execution_count": 130,
   "id": "respected-margin",
   "metadata": {},
   "outputs": [],
   "source": [
    "var_url = urlopen('https://gedenktafeln-in-berlin.de/index.php?id=31&type=123')\n",
    "xmldoc = parse(var_url)"
   ]
  },
  {
   "cell_type": "code",
   "execution_count": 134,
   "id": "interstate-acting",
   "metadata": {},
   "outputs": [],
   "source": [
    "monuments= []"
   ]
  },
  {
   "cell_type": "code",
   "execution_count": 135,
   "id": "blessed-insight",
   "metadata": {},
   "outputs": [],
   "source": [
    "for item in xmldoc.iterfind('item'):\n",
    "    uid = item.findtext('uid')\n",
    "    name = item.findtext('Name')\n",
    "    url = item.findtext('url')\n",
    "    strasse = item.findtext('strasse')\n",
    "    ortsteil = item.findtext('ortsteil')\n",
    "    inhalt = item.findtext('inhalt')\n",
    "    erlauterung = item.findtext('erlauterung')\n",
    "    autor = item.findtext('autor')\n",
    "    image = item.findtext('url')\n",
    "    #lon and lat are wrong in the file, should be swapped\n",
    "    lon = item.findtext('latitude')\n",
    "    lat = item.findtext('longitude')\n",
    "    if((name!='') & (lon!='') & (lat!='')):\n",
    "        a={'uid': uid, 'name': name, 'url': url, 'strasse': strasse, 'ortsteil': ortsteil, 'inhalt': inhalt, 'erlauterung': erlauterung, 'autor': autor, 'lon': float(lon), 'lat': float(lat)}\n",
    "        monuments.append(a)"
   ]
  },
  {
   "cell_type": "code",
   "execution_count": 136,
   "id": "developmental-diameter",
   "metadata": {},
   "outputs": [
    {
     "data": {
      "text/plain": [
       "3329"
      ]
     },
     "execution_count": 136,
     "metadata": {},
     "output_type": "execute_result"
    }
   ],
   "source": [
    "len(monuments)"
   ]
  },
  {
   "cell_type": "code",
   "execution_count": 137,
   "id": "discrete-there",
   "metadata": {},
   "outputs": [
    {
     "data": {
      "text/plain": [
       "<pymongo.results.InsertManyResult at 0x2458af704c0>"
      ]
     },
     "execution_count": 137,
     "metadata": {},
     "output_type": "execute_result"
    }
   ],
   "source": [
    "db.monuments.insert_many(monuments)"
   ]
  },
  {
   "cell_type": "code",
   "execution_count": 80,
   "id": "closed-version",
   "metadata": {},
   "outputs": [
    {
     "data": {
      "text/plain": [
       "xml.etree.ElementTree.Element"
      ]
     },
     "execution_count": 80,
     "metadata": {},
     "output_type": "execute_result"
    }
   ],
   "source": []
  },
  {
   "cell_type": "code",
   "execution_count": 63,
   "id": "scheduled-rochester",
   "metadata": {},
   "outputs": [],
   "source": []
  },
  {
   "cell_type": "code",
   "execution_count": null,
   "id": "quick-finnish",
   "metadata": {},
   "outputs": [],
   "source": []
  },
  {
   "cell_type": "code",
   "execution_count": null,
   "id": "isolated-continent",
   "metadata": {},
   "outputs": [],
   "source": []
  },
  {
   "cell_type": "code",
   "execution_count": null,
   "id": "coastal-boundary",
   "metadata": {},
   "outputs": [],
   "source": []
  },
  {
   "cell_type": "code",
   "execution_count": null,
   "id": "offensive-chamber",
   "metadata": {},
   "outputs": [],
   "source": []
  },
  {
   "cell_type": "code",
   "execution_count": null,
   "id": "presidential-berlin",
   "metadata": {},
   "outputs": [],
   "source": []
  },
  {
   "cell_type": "code",
   "execution_count": null,
   "id": "permanent-grocery",
   "metadata": {},
   "outputs": [],
   "source": []
  },
  {
   "cell_type": "code",
   "execution_count": null,
   "id": "unexpected-diagnosis",
   "metadata": {},
   "outputs": [],
   "source": []
  },
  {
   "cell_type": "code",
   "execution_count": null,
   "id": "cooperative-survey",
   "metadata": {},
   "outputs": [],
   "source": []
  }
 ],
 "metadata": {
  "kernelspec": {
   "display_name": "Python 3",
   "language": "python",
   "name": "python3"
  },
  "language_info": {
   "codemirror_mode": {
    "name": "ipython",
    "version": 3
   },
   "file_extension": ".py",
   "mimetype": "text/x-python",
   "name": "python",
   "nbconvert_exporter": "python",
   "pygments_lexer": "ipython3",
   "version": "3.8.5"
  }
 },
 "nbformat": 4,
 "nbformat_minor": 5
}
