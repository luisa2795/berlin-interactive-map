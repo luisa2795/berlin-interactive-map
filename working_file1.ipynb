{
 "cells": [
  {
   "cell_type": "code",
   "execution_count": 291,
   "id": "protective-orlando",
   "metadata": {},
   "outputs": [],
   "source": [
    "#pip install geopy"
   ]
  },
  {
   "cell_type": "code",
   "execution_count": 2,
   "id": "convenient-skirt",
   "metadata": {},
   "outputs": [],
   "source": [
    "import folium\n",
    "from streamlit_folium import folium_static\n",
    "from folium.plugins import MarkerCluster\n",
    "import pandas as pd\n",
    "import xml.etree.ElementTree as ET\n",
    "import urllib.request\n",
    "from folium.plugins import FastMarkerCluster\n",
    "from geopy.geocoders import Nominatim\n",
    "from urllib.request import urlopen\n",
    "from xml.etree.ElementTree import parse"
   ]
  },
  {
   "cell_type": "markdown",
   "id": "suspected-myanmar",
   "metadata": {},
   "source": [
    "**Map**"
   ]
  },
  {
   "cell_type": "code",
   "execution_count": 3,
   "id": "dental-competition",
   "metadata": {},
   "outputs": [],
   "source": [
    "#create Berlin Map\n",
    "m = folium.Map(location = [52.520008, 13.404954], tiles = \"cartodbpositron\", zoom_start=10 ) "
   ]
  },
  {
   "cell_type": "code",
   "execution_count": 4,
   "id": "essential-relationship",
   "metadata": {},
   "outputs": [],
   "source": [
    "#m"
   ]
  },
  {
   "cell_type": "markdown",
   "id": "postal-livestock",
   "metadata": {},
   "source": [
    "**Monuments**"
   ]
  },
  {
   "cell_type": "code",
   "execution_count": 5,
   "id": "durable-delight",
   "metadata": {},
   "outputs": [
    {
     "data": {
      "text/plain": [
       "(12222, 12)"
      ]
     },
     "execution_count": 5,
     "metadata": {},
     "output_type": "execute_result"
    }
   ],
   "source": [
    "df = pd.read_csv('data/denkmalliste_berlin_092020.csv')\n",
    "df.shape"
   ]
  },
  {
   "cell_type": "code",
   "execution_count": 6,
   "id": "former-violation",
   "metadata": {},
   "outputs": [
    {
     "data": {
      "text/html": [
       "<div>\n",
       "<style scoped>\n",
       "    .dataframe tbody tr th:only-of-type {\n",
       "        vertical-align: middle;\n",
       "    }\n",
       "\n",
       "    .dataframe tbody tr th {\n",
       "        vertical-align: top;\n",
       "    }\n",
       "\n",
       "    .dataframe thead th {\n",
       "        text-align: right;\n",
       "    }\n",
       "</style>\n",
       "<table border=\"1\" class=\"dataframe\">\n",
       "  <thead>\n",
       "    <tr style=\"text-align: right;\">\n",
       "      <th></th>\n",
       "      <th>Unnamed: 0</th>\n",
       "      <th>ID</th>\n",
       "      <th>Ortsteil</th>\n",
       "      <th>Bezirk</th>\n",
       "      <th>Typ</th>\n",
       "      <th>Bezeichnung</th>\n",
       "      <th>Ensemble_Info</th>\n",
       "      <th>Zugehörigkeit</th>\n",
       "      <th>Adresse</th>\n",
       "      <th>Adresse2</th>\n",
       "      <th>Architekt und weitere Informationen</th>\n",
       "      <th>Jahr</th>\n",
       "    </tr>\n",
       "  </thead>\n",
       "  <tbody>\n",
       "    <tr>\n",
       "      <th>0</th>\n",
       "      <td>0</td>\n",
       "      <td>9020353</td>\n",
       "      <td>CHA-WIL/WESTE-E</td>\n",
       "      <td>Charlottenburg-Wilmersdorf</td>\n",
       "      <td>Ensemble</td>\n",
       "      <td>Wohnhäuser</td>\n",
       "      <td>ganzes Ensemble</td>\n",
       "      <td>Baudenkmal siehe: Badenallee 30</td>\n",
       "      <td>Badenallee 29-30</td>\n",
       "      <td>NaN</td>\n",
       "      <td>NaN</td>\n",
       "      <td>NaN</td>\n",
       "    </tr>\n",
       "    <tr>\n",
       "      <th>1</th>\n",
       "      <td>1</td>\n",
       "      <td>9020354</td>\n",
       "      <td>CHA-WIL/WESTE-E</td>\n",
       "      <td>Charlottenburg-Wilmersdorf</td>\n",
       "      <td>Ensemble</td>\n",
       "      <td>Haus Hübner</td>\n",
       "      <td>Ensemble-Bestandteil</td>\n",
       "      <td>NaN</td>\n",
       "      <td>Badenallee 29</td>\n",
       "      <td>NaN</td>\n",
       "      <td>Paul G. R. Baumgarten</td>\n",
       "      <td>1938-39</td>\n",
       "    </tr>\n",
       "    <tr>\n",
       "      <th>2</th>\n",
       "      <td>2</td>\n",
       "      <td>9011386</td>\n",
       "      <td>CHA-WIL/WILMD-E</td>\n",
       "      <td>Charlottenburg-Wilmersdorf</td>\n",
       "      <td>Ensemble</td>\n",
       "      <td>Wohnblöcke</td>\n",
       "      <td>Ensemble-Bestandteil</td>\n",
       "      <td>Gesamtanlage siehe: Binger Straße 75-77A - Bau...</td>\n",
       "      <td>Binger Straße 10-16, 18-23, 66-72, 75-77A</td>\n",
       "      <td>Eberbacher Straße 17-21, 24, 26-31 - Homburger...</td>\n",
       "      <td>NaN</td>\n",
       "      <td>NaN</td>\n",
       "    </tr>\n",
       "    <tr>\n",
       "      <th>3</th>\n",
       "      <td>3</td>\n",
       "      <td>9011627</td>\n",
       "      <td>CHA-WIL/WILMD-E</td>\n",
       "      <td>Charlottenburg-Wilmersdorf</td>\n",
       "      <td>Ensemble</td>\n",
       "      <td>Wohnblock</td>\n",
       "      <td>Ensemble-Bestandteil</td>\n",
       "      <td>NaN</td>\n",
       "      <td>Binger Straße 16 / Homburger Straße 49/53 / Sc...</td>\n",
       "      <td>NaN</td>\n",
       "      <td>Alfred Gerschel</td>\n",
       "      <td>1930</td>\n",
       "    </tr>\n",
       "    <tr>\n",
       "      <th>4</th>\n",
       "      <td>4</td>\n",
       "      <td>9011630</td>\n",
       "      <td>CHA-WIL/WILMD-E</td>\n",
       "      <td>Charlottenburg-Wilmersdorf</td>\n",
       "      <td>Ensemble</td>\n",
       "      <td>Wohnblock</td>\n",
       "      <td>Ensemble-Bestandteil</td>\n",
       "      <td>NaN</td>\n",
       "      <td>Binger Straße 18-20 / Eberbacher Straße 24/30 ...</td>\n",
       "      <td>NaN</td>\n",
       "      <td>Heinz Stoffregen</td>\n",
       "      <td>1928</td>\n",
       "    </tr>\n",
       "    <tr>\n",
       "      <th>...</th>\n",
       "      <td>...</td>\n",
       "      <td>...</td>\n",
       "      <td>...</td>\n",
       "      <td>...</td>\n",
       "      <td>...</td>\n",
       "      <td>...</td>\n",
       "      <td>...</td>\n",
       "      <td>...</td>\n",
       "      <td>...</td>\n",
       "      <td>...</td>\n",
       "      <td>...</td>\n",
       "      <td>...</td>\n",
       "    </tr>\n",
       "    <tr>\n",
       "      <th>12217</th>\n",
       "      <td>12217</td>\n",
       "      <td>9046035</td>\n",
       "      <td>TRE-KÖP/RAHND-Ga</td>\n",
       "      <td>Treptow-Köpenick</td>\n",
       "      <td>Gartendenkmal</td>\n",
       "      <td>Freifläche um die Taborkirche</td>\n",
       "      <td>NaN</td>\n",
       "      <td>NaN</td>\n",
       "      <td>Schönblicker Straße</td>\n",
       "      <td>(TRE-KÖP/RAHND-Ga)</td>\n",
       "      <td>Jürgensen &amp; Bachmann (siehe Baudenkmal Schönbl...</td>\n",
       "      <td>1910-11</td>\n",
       "    </tr>\n",
       "    <tr>\n",
       "      <th>12218</th>\n",
       "      <td>12218</td>\n",
       "      <td>9046095</td>\n",
       "      <td>TRE-KÖP/ALTGL-Ga</td>\n",
       "      <td>Treptow-Köpenick</td>\n",
       "      <td>Gartendenkmal</td>\n",
       "      <td>Städtischer Friedhof, mit Feierhalle und umgeb...</td>\n",
       "      <td>NaN</td>\n",
       "      <td>NaN</td>\n",
       "      <td>Schönefelder Chaussee 100</td>\n",
       "      <td>(TRE-KÖP/ALTGL-Ga)</td>\n",
       "      <td>K. A. Herrmann; Ehrenhain, um 1920; Grab Eveki...</td>\n",
       "      <td>1910 und 1920</td>\n",
       "    </tr>\n",
       "    <tr>\n",
       "      <th>12219</th>\n",
       "      <td>12219</td>\n",
       "      <td>9046096</td>\n",
       "      <td>TRE-KÖP/BAUMS-Ga</td>\n",
       "      <td>Treptow-Köpenick</td>\n",
       "      <td>Gartendenkmal</td>\n",
       "      <td>Arboretum Baumschulenweg, Jubiläumsallee, Rosa...</td>\n",
       "      <td>NaN</td>\n",
       "      <td>NaN</td>\n",
       "      <td>Späthstraße 77-81</td>\n",
       "      <td>(TRE-KÖP/BAUMS-Ga)</td>\n",
       "      <td>Gustav Meyer und der Firma Ludwig Späth, Alpin...</td>\n",
       "      <td>1874-79 und 1928-29 und 1963</td>\n",
       "    </tr>\n",
       "    <tr>\n",
       "      <th>12220</th>\n",
       "      <td>12220</td>\n",
       "      <td>9046036</td>\n",
       "      <td>TRE-KÖP/KÖPEN-Ga</td>\n",
       "      <td>Treptow-Köpenick</td>\n",
       "      <td>Gartendenkmal</td>\n",
       "      <td>Marienhain, Villengarten Bolle und gepflastert...</td>\n",
       "      <td>NaN</td>\n",
       "      <td>NaN</td>\n",
       "      <td>Wendenschloßstraße 254</td>\n",
       "      <td>(TRE-KÖP/KÖPEN-Ga) - Bodendenkmale</td>\n",
       "      <td>NaN</td>\n",
       "      <td>1880</td>\n",
       "    </tr>\n",
       "    <tr>\n",
       "      <th>12221</th>\n",
       "      <td>12221</td>\n",
       "      <td>9097768</td>\n",
       "      <td>TRE-KÖP/KÖPEN-B</td>\n",
       "      <td>Treptow-Köpenick</td>\n",
       "      <td>Bodendenkmal</td>\n",
       "      <td>Schloßinsel Köpenick, jungbronzezeitliche Wall...</td>\n",
       "      <td>NaN</td>\n",
       "      <td>NaN</td>\n",
       "      <td>Schloßinsel Köpenick</td>\n",
       "      <td>(TRE-KÖP/KÖPEN-B)</td>\n",
       "      <td>NaN</td>\n",
       "      <td>NaN</td>\n",
       "    </tr>\n",
       "  </tbody>\n",
       "</table>\n",
       "<p>12222 rows × 12 columns</p>\n",
       "</div>"
      ],
      "text/plain": [
       "       Unnamed: 0       ID          Ortsteil                      Bezirk  \\\n",
       "0               0  9020353   CHA-WIL/WESTE-E  Charlottenburg-Wilmersdorf   \n",
       "1               1  9020354   CHA-WIL/WESTE-E  Charlottenburg-Wilmersdorf   \n",
       "2               2  9011386   CHA-WIL/WILMD-E  Charlottenburg-Wilmersdorf   \n",
       "3               3  9011627   CHA-WIL/WILMD-E  Charlottenburg-Wilmersdorf   \n",
       "4               4  9011630   CHA-WIL/WILMD-E  Charlottenburg-Wilmersdorf   \n",
       "...           ...      ...               ...                         ...   \n",
       "12217       12217  9046035  TRE-KÖP/RAHND-Ga            Treptow-Köpenick   \n",
       "12218       12218  9046095  TRE-KÖP/ALTGL-Ga            Treptow-Köpenick   \n",
       "12219       12219  9046096  TRE-KÖP/BAUMS-Ga            Treptow-Köpenick   \n",
       "12220       12220  9046036  TRE-KÖP/KÖPEN-Ga            Treptow-Köpenick   \n",
       "12221       12221  9097768   TRE-KÖP/KÖPEN-B            Treptow-Köpenick   \n",
       "\n",
       "                 Typ                                        Bezeichnung  \\\n",
       "0           Ensemble                                         Wohnhäuser   \n",
       "1           Ensemble                                        Haus Hübner   \n",
       "2           Ensemble                                         Wohnblöcke   \n",
       "3           Ensemble                                          Wohnblock   \n",
       "4           Ensemble                                          Wohnblock   \n",
       "...              ...                                                ...   \n",
       "12217  Gartendenkmal                      Freifläche um die Taborkirche   \n",
       "12218  Gartendenkmal  Städtischer Friedhof, mit Feierhalle und umgeb...   \n",
       "12219  Gartendenkmal  Arboretum Baumschulenweg, Jubiläumsallee, Rosa...   \n",
       "12220  Gartendenkmal  Marienhain, Villengarten Bolle und gepflastert...   \n",
       "12221   Bodendenkmal  Schloßinsel Köpenick, jungbronzezeitliche Wall...   \n",
       "\n",
       "              Ensemble_Info  \\\n",
       "0           ganzes Ensemble   \n",
       "1      Ensemble-Bestandteil   \n",
       "2      Ensemble-Bestandteil   \n",
       "3      Ensemble-Bestandteil   \n",
       "4      Ensemble-Bestandteil   \n",
       "...                     ...   \n",
       "12217                   NaN   \n",
       "12218                   NaN   \n",
       "12219                   NaN   \n",
       "12220                   NaN   \n",
       "12221                   NaN   \n",
       "\n",
       "                                           Zugehörigkeit  \\\n",
       "0                        Baudenkmal siehe: Badenallee 30   \n",
       "1                                                    NaN   \n",
       "2      Gesamtanlage siehe: Binger Straße 75-77A - Bau...   \n",
       "3                                                    NaN   \n",
       "4                                                    NaN   \n",
       "...                                                  ...   \n",
       "12217                                                NaN   \n",
       "12218                                                NaN   \n",
       "12219                                                NaN   \n",
       "12220                                                NaN   \n",
       "12221                                                NaN   \n",
       "\n",
       "                                                 Adresse  \\\n",
       "0                                       Badenallee 29-30   \n",
       "1                                          Badenallee 29   \n",
       "2              Binger Straße 10-16, 18-23, 66-72, 75-77A   \n",
       "3      Binger Straße 16 / Homburger Straße 49/53 / Sc...   \n",
       "4      Binger Straße 18-20 / Eberbacher Straße 24/30 ...   \n",
       "...                                                  ...   \n",
       "12217                                Schönblicker Straße   \n",
       "12218                          Schönefelder Chaussee 100   \n",
       "12219                                  Späthstraße 77-81   \n",
       "12220                             Wendenschloßstraße 254   \n",
       "12221                               Schloßinsel Köpenick   \n",
       "\n",
       "                                                Adresse2  \\\n",
       "0                                                    NaN   \n",
       "1                                                    NaN   \n",
       "2      Eberbacher Straße 17-21, 24, 26-31 - Homburger...   \n",
       "3                                                    NaN   \n",
       "4                                                    NaN   \n",
       "...                                                  ...   \n",
       "12217                                (TRE-KÖP/RAHND-Ga)    \n",
       "12218                                (TRE-KÖP/ALTGL-Ga)    \n",
       "12219                                (TRE-KÖP/BAUMS-Ga)    \n",
       "12220                (TRE-KÖP/KÖPEN-Ga) - Bodendenkmale    \n",
       "12221                                  (TRE-KÖP/KÖPEN-B)   \n",
       "\n",
       "                     Architekt und weitere Informationen  \\\n",
       "0                                                    NaN   \n",
       "1                                 Paul G. R. Baumgarten    \n",
       "2                                                    NaN   \n",
       "3                                       Alfred Gerschel    \n",
       "4                                      Heinz Stoffregen    \n",
       "...                                                  ...   \n",
       "12217  Jürgensen & Bachmann (siehe Baudenkmal Schönbl...   \n",
       "12218  K. A. Herrmann; Ehrenhain, um 1920; Grab Eveki...   \n",
       "12219  Gustav Meyer und der Firma Ludwig Späth, Alpin...   \n",
       "12220                                                NaN   \n",
       "12221                                                NaN   \n",
       "\n",
       "                               Jahr  \n",
       "0                               NaN  \n",
       "1                           1938-39  \n",
       "2                               NaN  \n",
       "3                              1930  \n",
       "4                              1928  \n",
       "...                             ...  \n",
       "12217                       1910-11  \n",
       "12218                 1910 und 1920  \n",
       "12219  1874-79 und 1928-29 und 1963  \n",
       "12220                          1880  \n",
       "12221                           NaN  \n",
       "\n",
       "[12222 rows x 12 columns]"
      ]
     },
     "execution_count": 6,
     "metadata": {},
     "output_type": "execute_result"
    }
   ],
   "source": [
    "df"
   ]
  },
  {
   "cell_type": "code",
   "execution_count": 13,
   "id": "sunrise-induction",
   "metadata": {},
   "outputs": [
    {
     "name": "stdout",
     "output_type": "stream",
     "text": [
      "latitude is :- 51.5073219 \n",
      "longtitude is:- -0.1276474\n"
     ]
    }
   ],
   "source": []
  },
  {
   "cell_type": "code",
   "execution_count": null,
   "id": "structured-arena",
   "metadata": {},
   "outputs": [],
   "source": []
  },
  {
   "cell_type": "code",
   "execution_count": null,
   "id": "equal-switzerland",
   "metadata": {},
   "outputs": [],
   "source": []
  },
  {
   "cell_type": "code",
   "execution_count": null,
   "id": "standard-disco",
   "metadata": {},
   "outputs": [],
   "source": []
  },
  {
   "cell_type": "code",
   "execution_count": null,
   "id": "transsexual-electronics",
   "metadata": {},
   "outputs": [],
   "source": []
  },
  {
   "cell_type": "code",
   "execution_count": null,
   "id": "sixth-illness",
   "metadata": {},
   "outputs": [],
   "source": []
  },
  {
   "cell_type": "code",
   "execution_count": null,
   "id": "shaped-moldova",
   "metadata": {},
   "outputs": [],
   "source": []
  },
  {
   "cell_type": "markdown",
   "id": "particular-retreat",
   "metadata": {},
   "source": [
    "**Memorial Plaques**"
   ]
  },
  {
   "cell_type": "code",
   "execution_count": null,
   "id": "exact-baseline",
   "metadata": {},
   "outputs": [],
   "source": []
  },
  {
   "cell_type": "code",
   "execution_count": 22,
   "id": "systematic-kennedy",
   "metadata": {},
   "outputs": [
    {
     "data": {
      "text/plain": [
       "3364"
      ]
     },
     "execution_count": 22,
     "metadata": {},
     "output_type": "execute_result"
    }
   ],
   "source": [
    "\n"
   ]
  },
  {
   "cell_type": "code",
   "execution_count": null,
   "id": "confident-conspiracy",
   "metadata": {},
   "outputs": [],
   "source": []
  },
  {
   "cell_type": "code",
   "execution_count": null,
   "id": "perfect-washington",
   "metadata": {},
   "outputs": [],
   "source": []
  },
  {
   "cell_type": "code",
   "execution_count": null,
   "id": "confident-scroll",
   "metadata": {},
   "outputs": [],
   "source": []
  },
  {
   "cell_type": "code",
   "execution_count": null,
   "id": "european-change",
   "metadata": {},
   "outputs": [],
   "source": []
  },
  {
   "cell_type": "code",
   "execution_count": null,
   "id": "annual-thing",
   "metadata": {},
   "outputs": [],
   "source": []
  },
  {
   "cell_type": "code",
   "execution_count": null,
   "id": "apparent-circus",
   "metadata": {},
   "outputs": [],
   "source": []
  },
  {
   "cell_type": "code",
   "execution_count": 29,
   "id": "material-witch",
   "metadata": {},
   "outputs": [],
   "source": []
  },
  {
   "cell_type": "code",
   "execution_count": null,
   "id": "norman-stationery",
   "metadata": {},
   "outputs": [],
   "source": []
  },
  {
   "cell_type": "code",
   "execution_count": 31,
   "id": "secondary-slovak",
   "metadata": {},
   "outputs": [],
   "source": []
  },
  {
   "cell_type": "code",
   "execution_count": 32,
   "id": "built-image",
   "metadata": {},
   "outputs": [],
   "source": []
  },
  {
   "cell_type": "code",
   "execution_count": null,
   "id": "warming-louis",
   "metadata": {},
   "outputs": [],
   "source": []
  },
  {
   "cell_type": "markdown",
   "id": "dangerous-furniture",
   "metadata": {},
   "source": [
    "**Another Map**"
   ]
  },
  {
   "cell_type": "code",
   "execution_count": 75,
   "id": "premier-behalf",
   "metadata": {},
   "outputs": [],
   "source": []
  },
  {
   "cell_type": "code",
   "execution_count": null,
   "id": "returning-reader",
   "metadata": {},
   "outputs": [],
   "source": []
  },
  {
   "cell_type": "code",
   "execution_count": null,
   "id": "acute-merchant",
   "metadata": {},
   "outputs": [],
   "source": []
  },
  {
   "cell_type": "code",
   "execution_count": null,
   "id": "civil-applicant",
   "metadata": {},
   "outputs": [],
   "source": []
  },
  {
   "cell_type": "code",
   "execution_count": null,
   "id": "final-tutorial",
   "metadata": {},
   "outputs": [],
   "source": []
  },
  {
   "cell_type": "code",
   "execution_count": null,
   "id": "surprising-closing",
   "metadata": {},
   "outputs": [],
   "source": []
  },
  {
   "cell_type": "code",
   "execution_count": null,
   "id": "seasonal-russell",
   "metadata": {},
   "outputs": [],
   "source": []
  },
  {
   "cell_type": "code",
   "execution_count": null,
   "id": "administrative-police",
   "metadata": {},
   "outputs": [],
   "source": []
  },
  {
   "cell_type": "markdown",
   "id": "virgin-cheese",
   "metadata": {},
   "source": [
    "Dash:\n",
    "https://github.com/Coding-with-Adam/Dash-by-Plotly/blob/master/Dash_Interactive_Graphs/Scatter_mapbox/recycling.py"
   ]
  },
  {
   "cell_type": "markdown",
   "id": "vital-evening",
   "metadata": {},
   "source": []
  },
  {
   "cell_type": "code",
   "execution_count": null,
   "id": "turned-melbourne",
   "metadata": {},
   "outputs": [],
   "source": []
  },
  {
   "cell_type": "code",
   "execution_count": null,
   "id": "pressed-antenna",
   "metadata": {},
   "outputs": [],
   "source": []
  },
  {
   "cell_type": "code",
   "execution_count": null,
   "id": "manual-graduation",
   "metadata": {},
   "outputs": [],
   "source": []
  },
  {
   "cell_type": "code",
   "execution_count": null,
   "id": "premier-trauma",
   "metadata": {},
   "outputs": [],
   "source": []
  },
  {
   "cell_type": "code",
   "execution_count": null,
   "id": "surprising-police",
   "metadata": {},
   "outputs": [],
   "source": []
  },
  {
   "cell_type": "code",
   "execution_count": null,
   "id": "invalid-elephant",
   "metadata": {},
   "outputs": [],
   "source": []
  }
 ],
 "metadata": {
  "kernelspec": {
   "display_name": "Python 3",
   "language": "python",
   "name": "python3"
  },
  "language_info": {
   "codemirror_mode": {
    "name": "ipython",
    "version": 3
   },
   "file_extension": ".py",
   "mimetype": "text/x-python",
   "name": "python",
   "nbconvert_exporter": "python",
   "pygments_lexer": "ipython3",
   "version": "3.8.5"
  }
 },
 "nbformat": 4,
 "nbformat_minor": 5
}
